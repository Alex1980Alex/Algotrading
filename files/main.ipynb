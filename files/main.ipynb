{
 "cells": [
  {
   "cell_type": "code",
   "execution_count": 1,
   "metadata": {},
   "outputs": [],
   "source": [
    "from pybit.unified_trading import HTTP"
   ]
  },
  {
   "cell_type": "code",
   "execution_count": 2,
   "metadata": {},
   "outputs": [],
   "source": [
    "client = HTTP(\n",
    "    testnet=False,\n",
    "    api_key=\"---\",\n",
    "    api_secret=\"---\",\n",
    ")"
   ]
  },
  {
   "cell_type": "code",
   "execution_count": 3,
   "metadata": {},
   "outputs": [],
   "source": [
    "import pprint"
   ]
  },
  {
   "cell_type": "code",
   "execution_count": null,
   "metadata": {},
   "outputs": [],
   "source": [
    "# Конфигурация режима маржи для учетной записи\n",
    "account_info = client.get_account_info()\n",
    "pprint.pprint(account_info)"
   ]
  },
  {
   "cell_type": "code",
   "execution_count": null,
   "metadata": {},
   "outputs": [],
   "source": [
    "# Баланс фьючерсного кошелька\n",
    "balance = client.get_wallet_balance(accountType='CONTRACT')\n",
    "pprint.pprint(balance)"
   ]
  },
  {
   "cell_type": "code",
   "execution_count": null,
   "metadata": {},
   "outputs": [],
   "source": [
    "# Баланс спотового кошелька\n",
    "balance = client.get_wallet_balance(accountType='SPOT')\n",
    "pprint.pprint(balance)"
   ]
  },
  {
   "cell_type": "code",
   "execution_count": null,
   "metadata": {},
   "outputs": [],
   "source": [
    "# Информация о монетах, включая информацию о сети и статусе вывода\n",
    "coin_info = client.get_coin_info()\n",
    "pprint.pprint(coin_info)"
   ]
  },
  {
   "cell_type": "code",
   "execution_count": null,
   "metadata": {},
   "outputs": [],
   "source": [
    "# Свечи\n",
    "kline = client.get_kline(category='linear', symbol='NEARUSDT', interval='5')\n",
    "pprint.pprint(kline)"
   ]
  },
  {
   "cell_type": "code",
   "execution_count": null,
   "metadata": {},
   "outputs": [],
   "source": [
    "# Лимитные ордера\n",
    "orderbook = client.get_orderbook(category='linear', symbol='NEARUSDT')\n",
    "pprint.pprint(orderbook)"
   ]
  },
  {
   "cell_type": "code",
   "execution_count": null,
   "metadata": {},
   "outputs": [],
   "source": [
    "# Тикеры\n",
    "tickers = client.get_tickers(category='linear')['result']['list']\n",
    "pprint.pprint(tickers)"
   ]
  },
  {
   "cell_type": "code",
   "execution_count": null,
   "metadata": {},
   "outputs": [],
   "source": [
    "# Последние сделки\n",
    "trading_history = client.get_public_trade_history(category='linear', symbol='NEARUSDT')\n",
    "pprint.pprint(trading_history)"
   ]
  },
  {
   "cell_type": "code",
   "execution_count": 16,
   "metadata": {},
   "outputs": [],
   "source": [
    "# Рыночный ордер на покупку\n",
    "market_order = client.place_order(\n",
    "    category='linear',\n",
    "    symbol=\"NEARUSDT\",\n",
    "    side=\"Buy\",\n",
    "    orderType=\"Market\",\n",
    "    qty=\"0.1\",\n",
    "    timeInForce=\"GTC\",\n",
    ")"
   ]
  },
  {
   "cell_type": "code",
   "execution_count": 13,
   "metadata": {},
   "outputs": [],
   "source": [
    "# Рыночный ордер на продажу\n",
    "market_order = client.place_order(\n",
    "    category='linear',\n",
    "    symbol=\"NEARUSDT\",\n",
    "    side=\"Sell\",\n",
    "    orderType=\"Market\",\n",
    "    qty=\"0.1\",\n",
    "    timeInForce=\"GTC\",\n",
    ")"
   ]
  },
  {
   "cell_type": "code",
   "execution_count": 14,
   "metadata": {},
   "outputs": [],
   "source": [
    "# Лимитный ордер\n",
    "limit_order = client.place_order(\n",
    "    category='linear',\n",
    "    symbol=\"NEARUSDT\",\n",
    "    side=\"Sell\",\n",
    "    orderType=\"Limit\",\n",
    "    qty=\"0.1\",\n",
    "    timeInForce=\"GTC\",\n",
    "    price=\"3.2\"\n",
    ")"
   ]
  },
  {
   "cell_type": "code",
   "execution_count": 15,
   "metadata": {},
   "outputs": [
    {
     "name": "stdout",
     "output_type": "stream",
     "text": [
      "{'retCode': 0, 'retMsg': 'OK', 'result': {'list': [{'orderId': 'a314f1b1-10c8-4bf7-a9d9-ca86784d53b3', 'orderLinkId': '', 'blockTradeId': '', 'symbol': 'NEARUSDT', 'price': '3.200', 'qty': '0.1', 'side': 'Sell', 'isLeverage': '', 'positionIdx': 0, 'orderStatus': 'New', 'cancelType': 'UNKNOWN', 'rejectReason': 'EC_NoError', 'avgPrice': '0', 'leavesQty': '0.1', 'leavesValue': '0.32', 'cumExecQty': '0.0', 'cumExecValue': '0', 'cumExecFee': '0', 'timeInForce': 'GTC', 'orderType': 'Limit', 'stopOrderType': 'UNKNOWN', 'orderIv': '', 'triggerPrice': '0.000', 'takeProfit': '0.000', 'stopLoss': '0.000', 'tpTriggerBy': 'UNKNOWN', 'slTriggerBy': 'UNKNOWN', 'triggerDirection': 0, 'triggerBy': 'UNKNOWN', 'lastPriceOnCreated': '2.934', 'reduceOnly': False, 'closeOnTrigger': False, 'smpType': 'None', 'smpGroup': 0, 'smpOrderId': '', 'tpslMode': '', 'tpLimitPrice': '', 'slLimitPrice': '', 'createType': 'CreateByUser', 'placeType': '', 'createdTime': '1706718341663', 'updatedTime': '1706718341664'}], 'nextPageCursor': 'page_args%3Da314f1b1-10c8-4bf7-a9d9-ca86784d53b3%26', 'category': 'linear'}, 'retExtInfo': {}, 'time': 1706718441283}\n"
     ]
    }
   ],
   "source": [
    "# Отменить все открытые ордера\n",
    "response = client.get_open_orders(\n",
    "    category=\"linear\",\n",
    "    symbol=\"NEARUSDT\",\n",
    ")\n",
    "\n",
    "print(response)\n",
    "\n",
    "orders = response[\"result\"][\"list\"]\n",
    "\n",
    "for order in orders:\n",
    "    if order[\"orderStatus\"] == \"New\":\n",
    "        client.cancel_order(\n",
    "            category=\"linear\",\n",
    "            symbol=order[\"symbol\"],\n",
    "            orderId=order[\"orderId\"],\n",
    "        )"
   ]
  }
 ],
 "metadata": {
  "kernelspec": {
   "display_name": "Python 3",
   "language": "python",
   "name": "python3"
  },
  "language_info": {
   "codemirror_mode": {
    "name": "ipython",
    "version": 3
   },
   "file_extension": ".py",
   "mimetype": "text/x-python",
   "name": "python",
   "nbconvert_exporter": "python",
   "pygments_lexer": "ipython3",
   "version": "3.12.1"
  }
 },
 "nbformat": 4,
 "nbformat_minor": 2
}
